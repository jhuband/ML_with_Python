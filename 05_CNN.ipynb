{
 "cells": [
  {
   "cell_type": "markdown",
   "metadata": {},
   "source": [
    "## Convolutional Neural Network Example\n",
    "\n",
    "<font color=\"red\">**Note: If you have been running other notebooks in this JupyterLab session, you will need to clear the GPU memory.** </font>\n",
    "\n",
    "You can do this by clicking, on the menu bar, the following: \n",
    "> Kernel > Shut Down All Kernels \n",
    "\n",
    "\n",
    "Then, to run this notebook click on the double arrows above this cell, <font color=\"blue\">**OR**</font> click on\n",
    "> Kernel > Restart Kernel and Run All Cells\n",
    "\n"
   ]
  },
  {
   "cell_type": "code",
   "execution_count": null,
   "metadata": {},
   "outputs": [],
   "source": [
    "##-----Assumes you are running in /scratch-----##\n",
    "import os\n",
    "os.chdir(\"/scratch/\"+os.getenv(\"USER\")+\"/ML_with_Python\")"
   ]
  },
  {
   "cell_type": "markdown",
   "metadata": {},
   "source": [
    "### Load the data"
   ]
  },
  {
   "cell_type": "code",
   "execution_count": null,
   "metadata": {},
   "outputs": [],
   "source": [
    "from tensorflow.keras.datasets import mnist\n",
    "  \n",
    "(train_images, train_labels), (test_images, test_labels) = mnist.load_data()\n"
   ]
  },
  {
   "cell_type": "markdown",
   "metadata": {},
   "source": [
    "### Capture the sizes"
   ]
  },
  {
   "cell_type": "code",
   "execution_count": null,
   "metadata": {},
   "outputs": [],
   "source": [
    "numTrain = train_images.shape[0]\n",
    "numTest = test_images.shape[0]\n",
    "\n",
    "image_width = train_images.shape[1]\n",
    "image_height = train_images.shape[2]\n",
    "image_channels = 1\n",
    "\n"
   ]
  },
  {
   "cell_type": "markdown",
   "metadata": {},
   "source": [
    "### Reshape the data"
   ]
  },
  {
   "cell_type": "code",
   "execution_count": null,
   "metadata": {},
   "outputs": [],
   "source": [
    "train_images = train_images.reshape((numTrain, image_height, image_width, image_channels))\n",
    "train_images = train_images.astype(\"float32\") / 255 \n",
    "\n",
    "test_images = test_images.reshape((numTest, image_height, image_width, image_channels))\n",
    "test_images = test_images.astype(\"float32\") / 255 \n",
    "\n",
    "#  Convert labels to ‘one-hot’ vectors\n",
    "#from keras.utils.np_utils import to_categorical\n",
    "\n",
    "#numLabels = 10\n",
    "#train_labels = to_categorical(train_labels, num_classes=numLabels) \n",
    "#test_labels = to_categorical(test_labels, num_classes=numLabels) \n",
    "\n",
    "\n"
   ]
  },
  {
   "cell_type": "markdown",
   "metadata": {},
   "source": [
    "### Define the model"
   ]
  },
  {
   "cell_type": "code",
   "execution_count": null,
   "metadata": {},
   "outputs": [],
   "source": [
    "def define_model(image_shape):\n",
    "    from tensorflow import keras \n",
    "    from tensorflow.keras import layers\n",
    "\n",
    "\n",
    "    image_width = image_shape[2]\n",
    "    image_height = image_shape[1]\n",
    "    image_channels = image_shape[3]\n",
    "\n",
    "    #Define the input shape\n",
    "    inputs = keras.Input(shape=(image_height, image_width, image_channels))\n",
    "\n",
    "    #Define the hidden layers to be applied to the inputs & subsequent layers\n",
    "    x = layers.Conv2D(filters=32, kernel_size=3, activation=\"relu\")(inputs)\n",
    "    x = layers.MaxPooling2D(pool_size=2)(x)\n",
    "    x = layers.Conv2D(filters=64, kernel_size=3, activation=\"relu\")(x)\n",
    "    x = layers.MaxPooling2D(pool_size=2)(x)\n",
    "    x = layers.Conv2D(filters=128, kernel_size=3, activation=\"relu\")(x)\n",
    "    x = layers.Flatten()(x)\n",
    "\n",
    "    #Define the output layer\n",
    "    outputs = layers.Dense(10, activation=\"softmax\")(x)\n",
    "    model = keras.Model(inputs=inputs, outputs=outputs)\n",
    "    \n",
    "    \n",
    "    model.compile(optimizer=\"rmsprop\",\n",
    "              loss=\"sparse_categorical_crossentropy\",\n",
    "              metrics=[\"accuracy\"])\n",
    "\n",
    "    \n",
    "    return(model)\n",
    "\n",
    "\n",
    "image_shape = train_images.shape\n",
    "model = define_model(image_shape)"
   ]
  },
  {
   "cell_type": "markdown",
   "metadata": {},
   "source": [
    "### Fit the model"
   ]
  },
  {
   "cell_type": "code",
   "execution_count": null,
   "metadata": {},
   "outputs": [],
   "source": [
    "num_epochs = 5\n",
    "batch_size = 64\n",
    "\n",
    "model.fit(train_images, train_labels, epochs=num_epochs, batch_size=batch_size)\n",
    "    \n",
    " "
   ]
  },
  {
   "cell_type": "code",
   "execution_count": null,
   "metadata": {},
   "outputs": [],
   "source": [
    "test_loss, test_acc = model.evaluate(test_images, test_labels)\n",
    "print(f\"Test accuracy: {test_acc:.3f}\")\n"
   ]
  }
 ],
 "metadata": {
  "kernelspec": {
   "display_name": "Tensorflow 2.4.1/Keras Py3.7",
   "language": "python",
   "name": "tensorflow-2.4.1"
  },
  "language_info": {
   "codemirror_mode": {
    "name": "ipython",
    "version": 3
   },
   "file_extension": ".py",
   "mimetype": "text/x-python",
   "name": "python",
   "nbconvert_exporter": "python",
   "pygments_lexer": "ipython3",
   "version": "3.7.12"
  }
 },
 "nbformat": 4,
 "nbformat_minor": 4
}
